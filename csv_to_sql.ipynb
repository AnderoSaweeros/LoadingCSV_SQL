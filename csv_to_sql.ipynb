{
 "cells": [
  {
   "cell_type": "code",
   "execution_count": 16,
   "id": "c03a2ab2",
   "metadata": {},
   "outputs": [],
   "source": [
    "import csv\n",
    "import mysql.connector"
   ]
  },
  {
   "cell_type": "code",
   "execution_count": null,
   "id": "ecd9a554",
   "metadata": {},
   "outputs": [],
   "source": []
  },
  {
   "cell_type": "code",
   "execution_count": 19,
   "id": "02c6937e",
   "metadata": {},
   "outputs": [],
   "source": [
    "productFilePath = 'Product.csv'\n",
    "salesFilepath = 'Sales.csv'"
   ]
  },
  {
   "cell_type": "code",
   "execution_count": null,
   "id": "215dfd92",
   "metadata": {},
   "outputs": [],
   "source": [
    "\n",
    "    "
   ]
  },
  {
   "cell_type": "code",
   "execution_count": 79,
   "id": "be7fcf1c",
   "metadata": {},
   "outputs": [],
   "source": [
    "def add_csv(file_path, cursor, table_name):\n",
    "    \n",
    "    with open(file_path, 'r') as myFile:\n",
    "        reader = csv.DictReader(myFile)\n",
    "        \n",
    "        for row in reader:\n",
    "            columns = ', '.join(row.keys())\n",
    "            values = ', '.join(f\"'{v}'\" for v in row.values())\n",
    "            query = f\"INSERT INTO {table_name} ({columns}) VALUES ({values})\"\n",
    "            \n",
    "            cursor.execute(query)\n",
    "         \n",
    "       "
   ]
  },
  {
   "cell_type": "code",
   "execution_count": 77,
   "id": "b7355247",
   "metadata": {},
   "outputs": [
    {
     "name": "stdout",
     "output_type": "stream",
     "text": [
      "\n",
      "\n",
      "\n",
      "closing connector\n"
     ]
    }
   ],
   "source": [
    "try:\n",
    "    con = mysql.connector.connect(host='localhost',\n",
    "        user='root',\n",
    "        password='root1234',\n",
    "        port='3306',\n",
    "        database='testdatabase'\n",
    "        )\n",
    "    \n",
    "    mycursor = con.cursor()\n",
    "    \n",
    "    '''\n",
    "    used this right here to creat the 2 tables\n",
    "    \n",
    "    #mycursor.execute(\"Create Table Sales (Day DATE, Product varchar(256), Distributor varchar(256), Sales int, salesID int PRIMARY KEY AUTO_INCREMENT )\")\n",
    "    #mycursor.execute(\"Create Table Product (Product varchar(256), Category varchar(256), Brand varchar(256), productID int PRIMARY KEY AUTO_INCREMENT )\")\n",
    "    '''\n",
    "    add_csv(productFilePath, mycursor, 'Product')\n",
    "    add_csv(salesFilepath, mycursor, 'Sales')\n",
    "    \n",
    "    \n",
    "    mycursor.close()\n",
    "    con.commit()\n",
    "    \n",
    "    #openFiles()\n",
    "except Exception as e:\n",
    "    print(f\"an error of:\\n\\n{e}\\n\\noccured while checking if database is empty.\")\n",
    "finally:\n",
    "    if con.is_connected():\n",
    "        print(\"Closing connector\")\n",
    "        con.close()"
   ]
  },
  {
   "cell_type": "code",
   "execution_count": 82,
   "id": "6c953d17",
   "metadata": {},
   "outputs": [
    {
     "name": "stdout",
     "output_type": "stream",
     "text": [
      "Closing connector\n"
     ]
    }
   ],
   "source": [
    "try:\n",
    "    con = mysql.connector.connect(host='localhost',\n",
    "        user='root',\n",
    "        password='root1234',\n",
    "        port='3306',\n",
    "        database='testdatabase'\n",
    "        )\n",
    "\n",
    "    mycursor = con.cursor()\n",
    "\n",
    "    query = \"\"\"\n",
    "        CREATE VIEW ProductSalesView AS\n",
    "        SELECT Sales.Day, Product.Brand, Sales.Sales\n",
    "        FROM Sales\n",
    "        INNER JOIN Product ON Sales.Product = Product.Product;\n",
    "        \"\"\"\n",
    "    mycursor.execute(query)\n",
    "\n",
    "    mycursor.close()\n",
    "    con.commit()\n",
    "    \n",
    "except Exception as e:\n",
    "    \n",
    "    print(f\"an error of:\\n\\n{e}\\n\\noccured while checking if database is empty.\")\n",
    "\n",
    "finally:\n",
    "    if con.is_connected():\n",
    "        print(\"Closing connector\")\n",
    "        con.close()"
   ]
  },
  {
   "cell_type": "code",
   "execution_count": null,
   "id": "ec1c5d8c",
   "metadata": {},
   "outputs": [],
   "source": []
  },
  {
   "cell_type": "code",
   "execution_count": null,
   "id": "02bab99f",
   "metadata": {},
   "outputs": [],
   "source": []
  },
  {
   "cell_type": "code",
   "execution_count": null,
   "id": "f755218c",
   "metadata": {},
   "outputs": [],
   "source": []
  },
  {
   "cell_type": "code",
   "execution_count": null,
   "id": "98e9fd37",
   "metadata": {},
   "outputs": [],
   "source": []
  }
 ],
 "metadata": {
  "kernelspec": {
   "display_name": "Python 3 (ipykernel)",
   "language": "python",
   "name": "python3"
  },
  "language_info": {
   "codemirror_mode": {
    "name": "ipython",
    "version": 3
   },
   "file_extension": ".py",
   "mimetype": "text/x-python",
   "name": "python",
   "nbconvert_exporter": "python",
   "pygments_lexer": "ipython3",
   "version": "3.11.5"
  }
 },
 "nbformat": 4,
 "nbformat_minor": 5
}
