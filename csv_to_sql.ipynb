{
 "cells": [
  {
   "cell_type": "code",
   "execution_count": 112,
   "id": "c03a2ab2",
   "metadata": {},
   "outputs": [],
   "source": [
    "import csv\n",
    "import mysql.connector\n",
    "import json"
   ]
  },
  {
   "cell_type": "code",
   "execution_count": 113,
   "id": "ecd9a554",
   "metadata": {},
   "outputs": [],
   "source": [
    "configFilePath = 'config.json'\n",
    "productFilePath = None\n",
    "salesFilepath = None\n",
    "try:\n",
    "    with open(configFilePath, 'r') as config_file:\n",
    "        config = json.load(config_file)\n",
    "        productFilePath = config.get('product_csv_path')\n",
    "        salesFilepath = config.get('sales_csv_path')\n",
    "except Exception as e:\n",
    "    print(f\"Error reading configuration: {e}\")"
   ]
  },
  {
   "cell_type": "code",
   "execution_count": 114,
   "id": "02c6937e",
   "metadata": {},
   "outputs": [
    {
     "name": "stdout",
     "output_type": "stream",
     "text": [
      "Product.csv\n",
      "Sales.csv\n"
     ]
    }
   ],
   "source": [
    "print(productFilePath)\n",
    "print(salesFilepath)"
   ]
  },
  {
   "cell_type": "code",
   "execution_count": null,
   "id": "215dfd92",
   "metadata": {},
   "outputs": [],
   "source": [
    "\n",
    "    "
   ]
  },
  {
   "cell_type": "code",
   "execution_count": 115,
   "id": "be7fcf1c",
   "metadata": {},
   "outputs": [],
   "source": [
    "def add_csv(file_path, cursor, table_name):\n",
    "    \n",
    "    with open(file_path, 'r') as myFile:\n",
    "        reader = csv.DictReader(myFile)\n",
    "        \n",
    "        for row in reader:\n",
    "            columns = ', '.join(row.keys())\n",
    "            values = ', '.join(f\"'{v}'\" for v in row.values())\n",
    "            query = f\"INSERT INTO {table_name} ({columns}) VALUES ({values})\"\n",
    "            \n",
    "            cursor.execute(query)\n",
    "         \n",
    "       "
   ]
  },
  {
   "cell_type": "code",
   "execution_count": null,
   "id": "2c3d7d4c",
   "metadata": {},
   "outputs": [],
   "source": []
  },
  {
   "cell_type": "code",
   "execution_count": 117,
   "id": "b7355247",
   "metadata": {},
   "outputs": [
    {
     "name": "stdout",
     "output_type": "stream",
     "text": [
      "Closing connector\n"
     ]
    }
   ],
   "source": [
    "try:\n",
    "    con = mysql.connector.connect(host='localhost',\n",
    "        user='root',\n",
    "        password='root1234',\n",
    "        port='3306',\n",
    "        database='testdatabase'\n",
    "        )\n",
    "    \n",
    "    mycursor = con.cursor()\n",
    "    \n",
    "    \n",
    "    #used this right here to creat the 2 tables\n",
    "    \n",
    "    mycursor.execute(\"Create Table Sales (Day DATE, Product varchar(256), Distributor varchar(256), Sales int, salesID int PRIMARY KEY AUTO_INCREMENT )\")\n",
    "    mycursor.execute(\"Create Table Product (Product varchar(256), Category varchar(256), Brand varchar(256), productID int PRIMARY KEY AUTO_INCREMENT )\")\n",
    "    \n",
    "    add_csv(productFilePath, mycursor, 'Product')\n",
    "    add_csv(salesFilepath, mycursor, 'Sales')\n",
    "    \n",
    "    \n",
    "    mycursor.close()\n",
    "    con.commit()\n",
    "    \n",
    "    #openFiles()\n",
    "except Exception as e:\n",
    "    print(f\"an error of:\\n\\n{e}\\n\\noccured while checking if database is empty.\")\n",
    "finally:\n",
    "    if con.is_connected():\n",
    "        print(\"Closing connector\")\n",
    "        con.close()"
   ]
  },
  {
   "cell_type": "code",
   "execution_count": 134,
   "id": "2ed0171e",
   "metadata": {},
   "outputs": [
    {
     "name": "stdout",
     "output_type": "stream",
     "text": [
      "Closing connector\n"
     ]
    }
   ],
   "source": [
    "try:\n",
    "    con = mysql.connector.connect(host='localhost',\n",
    "        user='root',\n",
    "        password='root1234',\n",
    "        port='3306',\n",
    "        database='testdatabase'\n",
    "        )\n",
    "\n",
    "    mycursor = con.cursor()\n",
    "\n",
    "    query = \"\"\"\n",
    "        CREATE VIEW ProductSalesView AS\n",
    "        SELECT Sales.Day, Product.Brand, Sales.Sales\n",
    "        FROM Sales\n",
    "        INNER JOIN Product ON Sales.Product = Product.Product;\n",
    "        \"\"\"\n",
    "    mycursor.execute(query)\n",
    "    \n",
    "    \n",
    "    mycursor.close()\n",
    "    con.commit()\n",
    "    \n",
    "except Exception as e:\n",
    "    \n",
    "    print(f\"an error of:\\n\\n{e}\\n\\noccured while checking if database is empty.\")\n",
    "\n",
    "finally:\n",
    "    if con.is_connected():\n",
    "        print(\"Closing connector\")\n",
    "        con.close()"
   ]
  },
  {
   "cell_type": "code",
   "execution_count": 135,
   "id": "ec1c5d8c",
   "metadata": {},
   "outputs": [
    {
     "name": "stdout",
     "output_type": "stream",
     "text": [
      "[('Day', 10, None, None, None, None, 1, 128, 255), ('Brand', 253, None, None, None, None, 1, 0, 255), ('Sales', 3, None, None, None, None, 1, 32768, 63)]\n",
      "('Day', 10, None, None, None, None, 1, 128, 255)\n",
      "Day\n",
      "('Brand', 253, None, None, None, None, 1, 0, 255)\n",
      "Brand\n",
      "('Sales', 3, None, None, None, None, 1, 32768, 63)\n",
      "Sales\n",
      "['Day', 'Brand', 'Sales']\n",
      "[(datetime.date(2023, 1, 1), 'Brand_X', 150), (datetime.date(2023, 1, 1), 'Brand_Y', 200), (datetime.date(2023, 1, 2), 'Brand_X', 120), (datetime.date(2023, 1, 2), 'Brand_Y', 180), (datetime.date(2023, 1, 3), 'Brand_X', 130), (datetime.date(2023, 1, 3), 'Brand_Y', 220)]\n",
      "Closing connector\n"
     ]
    }
   ],
   "source": [
    "try:\n",
    "    con = mysql.connector.connect(host='localhost',\n",
    "        user='root',\n",
    "        password='root1234',\n",
    "        port='3306',\n",
    "        database='testdatabase'\n",
    "        )\n",
    "\n",
    "    mycursor = con.cursor()\n",
    "    mycursor.execute(\"SELECT * FROM ProductSalesView\")\n",
    "\n",
    "    # Fetch data from the cursor\n",
    "    data = mycursor.fetchall()\n",
    "    \n",
    "    header = [desc[0] for desc in mycursor.description]\n",
    "    \n",
    "    print(mycursor.description)\n",
    "    \n",
    "    for i in mycursor.description:\n",
    "        print(i)\n",
    "        print(i[0])\n",
    "    \n",
    "    with open('ProductSalesView.csv', 'w', newline='') as csv_file:\n",
    "            csv_writer = csv.writer(csv_file)\n",
    "            \n",
    "            # Write header\n",
    "            csv_writer.writerow(header)\n",
    "            \n",
    "            # Write data rows\n",
    "            csv_writer.writerows(data)\n",
    "    \n",
    "    print(header)\n",
    "    print(data)\n",
    "except Exception as e:\n",
    "    \n",
    "    print(f\"an error of:\\n\\n{e}\\n\\noccured while checking if database is empty.\")\n",
    "\n",
    "finally:\n",
    "    if con.is_connected():\n",
    "        print(\"Closing connector\")\n",
    "        con.close()"
   ]
  },
  {
   "cell_type": "code",
   "execution_count": null,
   "id": "02bab99f",
   "metadata": {},
   "outputs": [],
   "source": []
  },
  {
   "cell_type": "code",
   "execution_count": null,
   "id": "f755218c",
   "metadata": {},
   "outputs": [],
   "source": []
  },
  {
   "cell_type": "code",
   "execution_count": null,
   "id": "98e9fd37",
   "metadata": {},
   "outputs": [],
   "source": []
  }
 ],
 "metadata": {
  "kernelspec": {
   "display_name": "Python 3 (ipykernel)",
   "language": "python",
   "name": "python3"
  },
  "language_info": {
   "codemirror_mode": {
    "name": "ipython",
    "version": 3
   },
   "file_extension": ".py",
   "mimetype": "text/x-python",
   "name": "python",
   "nbconvert_exporter": "python",
   "pygments_lexer": "ipython3",
   "version": "3.11.5"
  }
 },
 "nbformat": 4,
 "nbformat_minor": 5
}
