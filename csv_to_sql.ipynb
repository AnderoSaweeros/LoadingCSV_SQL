{
 "cells": [
  {
   "cell_type": "code",
   "execution_count": 16,
   "id": "c03a2ab2",
   "metadata": {},
   "outputs": [],
   "source": [
    "import csv\n",
    "import mysql.connector"
   ]
  },
  {
   "cell_type": "code",
   "execution_count": 19,
   "id": "02c6937e",
   "metadata": {},
   "outputs": [],
   "source": [
    "productFilePath = 'Product.csv'\n",
    "salesFilepath = 'Sales.csv'"
   ]
  },
  {
   "cell_type": "code",
   "execution_count": null,
   "id": "ecd9a554",
   "metadata": {},
   "outputs": [],
   "source": []
  },
  {
   "cell_type": "code",
   "execution_count": 23,
   "id": "215dfd92",
   "metadata": {},
   "outputs": [],
   "source": [
    "def is_database_empty(cursor):\n",
    "    try:\n",
    "        pass\n",
    "    \n",
    "    except Exception as e:\n",
    "        #needs to be logged\n",
    "        print(f\"an error of:\\n{e}\\n occured while checking if database is empty.\")\n",
    "        raise e\n",
    "    "
   ]
  },
  {
   "cell_type": "code",
   "execution_count": 57,
   "id": "be7fcf1c",
   "metadata": {},
   "outputs": [],
   "source": [
    "def add_csv(filePath, cursor, table_name):\n",
    "    \n",
    "    with open(productFilePath, 'r') as myFile:\n",
    "        reader = csv.DictReader(myFile)\n",
    "        \n",
    "        for i in reader:\n",
    "            for j in list(i.keys()):\n",
    "                cursor.execute(\"INSERT INTO %s (%s) VALUE (%s) \", (table_name, j, i[j]) )\n",
    "                print(\"INSERT INTO {} ({}) VALUE ({}) \".format(table_name, j, i[j]) )\n",
    "            \n",
    "            \n",
    "            print()\n",
    "        cursor.commit    \n",
    "       "
   ]
  },
  {
   "cell_type": "code",
   "execution_count": 59,
   "id": "b7355247",
   "metadata": {},
   "outputs": [
    {
     "name": "stdout",
     "output_type": "stream",
     "text": [
      "an error of:\n",
      "1064 (42000): You have an error in your SQL syntax; check the manual that corresponds to your MySQL server version for the right syntax to use near ''Product' ('Product') VALUE ('Product_A')' at line 1\n",
      " occured while checking if database is empty.\n",
      "closing connector\n"
     ]
    }
   ],
   "source": [
    "try:\n",
    "    con = mysql.connector.connect(host='localhost',\n",
    "        user='root',\n",
    "        password='root1234',\n",
    "        port='3306',\n",
    "        database='testdatabase'\n",
    "        )\n",
    "    \n",
    "    #print(con)\n",
    "    mycursor = con.cursor()\n",
    "    #print(mycursor)\n",
    "    \n",
    "    '''\n",
    "    used this right here to creat the 2 tables\n",
    "    \n",
    "    #mycursor.execute(\"Create Table Sales (Day DATE, Product varchar(256), Distributor varchar(256), Sales int, salesID int PRIMARY KEY AUTO_INCREMENT )\")\n",
    "    #mycursor.execute(\"Create Table Product (Product varchar(256), Category varchar(256), Brand varchar(256), productID int PRIMARY KEY AUTO_INCREMENT )\")\n",
    "    '''\n",
    "    add_csv(productFilePath, mycursor, 'Product')\n",
    "    add_csv(salesFilepath, mycursor, 'Sales')\n",
    "    \n",
    "    \n",
    "    mycursor.close()\n",
    "    con.commit()\n",
    "    \n",
    "    #openFiles()\n",
    "except Exception as e:\n",
    "    print(f\"an error of:\\n{e}\\n occured while checking if database is empty.\")\n",
    "finally:\n",
    "    print(\"closing connector\")\n",
    "    con.close()"
   ]
  },
  {
   "cell_type": "code",
   "execution_count": 51,
   "id": "ec1c5d8c",
   "metadata": {},
   "outputs": [
    {
     "name": "stdout",
     "output_type": "stream",
     "text": [
      "INSERT INTO Product (Product) VALUE (Product_A) \n",
      "INSERT INTO Product (Category) VALUE (Electronics) \n",
      "INSERT INTO Product (Brand) VALUE (Brand_X) \n",
      "\n",
      "INSERT INTO Product (Product) VALUE (Product_B) \n",
      "INSERT INTO Product (Category) VALUE (Appliances) \n",
      "INSERT INTO Product (Brand) VALUE (Brand_Y) \n",
      "\n",
      "INSERT INTO Product (Product) VALUE (Product_C) \n",
      "INSERT INTO Product (Category) VALUE (Clothing) \n",
      "INSERT INTO Product (Brand) VALUE (Brand_Z) \n",
      "\n"
     ]
    }
   ],
   "source": [
    "with open(productFilePath, 'r') as myFile:\n",
    "    reader = csv.DictReader(myFile)\n",
    "    for i in reader:\n",
    "        for j in list(i.keys()):\n",
    "            print(\"INSERT INTO {} ({}) VALUE ({}) \".format('Product', j, i[j]) )\n",
    "        print()"
   ]
  },
  {
   "cell_type": "code",
   "execution_count": 52,
   "id": "02bab99f",
   "metadata": {},
   "outputs": [
    {
     "name": "stdout",
     "output_type": "stream",
     "text": [
      "INSERT INTO Product (Day) VALUE (2023-01-01) \n",
      "INSERT INTO Product (Product) VALUE (Product_A) \n",
      "INSERT INTO Product (Distributor) VALUE (Distributor_1) \n",
      "INSERT INTO Product (Sales) VALUE (150) \n",
      "\n",
      "INSERT INTO Product (Day) VALUE (2023-01-01) \n",
      "INSERT INTO Product (Product) VALUE (Product_B) \n",
      "INSERT INTO Product (Distributor) VALUE (Distributor_2) \n",
      "INSERT INTO Product (Sales) VALUE (200) \n",
      "\n",
      "INSERT INTO Product (Day) VALUE (2023-01-02) \n",
      "INSERT INTO Product (Product) VALUE (Product_A) \n",
      "INSERT INTO Product (Distributor) VALUE (Distributor_1) \n",
      "INSERT INTO Product (Sales) VALUE (120) \n",
      "\n",
      "INSERT INTO Product (Day) VALUE (2023-01-02) \n",
      "INSERT INTO Product (Product) VALUE (Product_B) \n",
      "INSERT INTO Product (Distributor) VALUE (Distributor_2) \n",
      "INSERT INTO Product (Sales) VALUE (180) \n",
      "\n",
      "INSERT INTO Product (Day) VALUE (2023-01-03) \n",
      "INSERT INTO Product (Product) VALUE (Product_A) \n",
      "INSERT INTO Product (Distributor) VALUE (Distributor_1) \n",
      "INSERT INTO Product (Sales) VALUE (130) \n",
      "\n",
      "INSERT INTO Product (Day) VALUE (2023-01-03) \n",
      "INSERT INTO Product (Product) VALUE (Product_B) \n",
      "INSERT INTO Product (Distributor) VALUE (Distributor_2) \n",
      "INSERT INTO Product (Sales) VALUE (220) \n",
      "\n"
     ]
    }
   ],
   "source": [
    "with open(salesFilepath, 'r') as myFile:\n",
    "    reader = csv.DictReader(myFile)\n",
    "    for i in reader:\n",
    "        for j in list(i.keys()):\n",
    "            print(\"INSERT INTO {} ({}) VALUE ({}) \".format('Product', j, i[j]) )\n",
    "        print()"
   ]
  },
  {
   "cell_type": "code",
   "execution_count": null,
   "id": "f755218c",
   "metadata": {},
   "outputs": [],
   "source": []
  },
  {
   "cell_type": "code",
   "execution_count": null,
   "id": "98e9fd37",
   "metadata": {},
   "outputs": [],
   "source": []
  }
 ],
 "metadata": {
  "kernelspec": {
   "display_name": "Python 3 (ipykernel)",
   "language": "python",
   "name": "python3"
  },
  "language_info": {
   "codemirror_mode": {
    "name": "ipython",
    "version": 3
   },
   "file_extension": ".py",
   "mimetype": "text/x-python",
   "name": "python",
   "nbconvert_exporter": "python",
   "pygments_lexer": "ipython3",
   "version": "3.11.5"
  }
 },
 "nbformat": 4,
 "nbformat_minor": 5
}
