{
 "cells": [
  {
   "cell_type": "code",
   "execution_count": 190,
   "id": "c03a2ab2",
   "metadata": {},
   "outputs": [],
   "source": [
    "import csv\n",
    "import mysql.connector\n",
    "import json\n",
    "import logging\n",
    "\n",
    "from functools import wraps"
   ]
  },
  {
   "cell_type": "code",
   "execution_count": 113,
   "id": "ecd9a554",
   "metadata": {},
   "outputs": [],
   "source": [
    "configFilePath = 'config.json'\n",
    "productFilePath = None\n",
    "salesFilepath = None\n",
    "try:\n",
    "    with open(configFilePath, 'r') as config_file:\n",
    "        config = json.load(config_file)\n",
    "        productFilePath = config.get('product_csv_path')\n",
    "        salesFilepath = config.get('sales_csv_path')\n",
    "except Exception as e:\n",
    "    print(f\"Error reading configuration: {e}\")"
   ]
  },
  {
   "cell_type": "code",
   "execution_count": 139,
   "id": "02c6937e",
   "metadata": {},
   "outputs": [
    {
     "name": "stdout",
     "output_type": "stream",
     "text": [
      "Product.csv\n",
      "Sales.csv\n"
     ]
    }
   ],
   "source": [
    "print(productFilePath)\n",
    "print(salesFilepath)"
   ]
  },
  {
   "cell_type": "code",
   "execution_count": 137,
   "id": "215dfd92",
   "metadata": {},
   "outputs": [],
   "source": [
    "def connect_to_database():\n",
    "    try:\n",
    "        con = mysql.connector.connect(host='localhost',\n",
    "            user='root',\n",
    "            password='root1234',\n",
    "            port='3306',\n",
    "            database='testdatabase'\n",
    "            )\n",
    "        mycursor = con.cursor()\n",
    "        return con, mycursor\n",
    "    except Exception as e:\n",
    "        print(f\"an error of:\\n\\n{e}\\n\\noccured while checking if database is empty.\")\n",
    "    finally:\n",
    "        if con.is_connected():\n",
    "            print(\"Closing connector\")\n",
    "            con.close()"
   ]
  },
  {
   "cell_type": "code",
   "execution_count": 115,
   "id": "be7fcf1c",
   "metadata": {},
   "outputs": [],
   "source": [
    "def add_csv(file_path, cursor, table_name):\n",
    "    \n",
    "    with open(file_path, 'r') as myFile:\n",
    "        reader = csv.DictReader(myFile)\n",
    "        \n",
    "        for row in reader:\n",
    "            columns = ', '.join(row.keys())\n",
    "            values = ', '.join(f\"'{v}'\" for v in row.values())\n",
    "            query = f\"INSERT INTO {table_name} ({columns}) VALUES ({values})\"\n",
    "            \n",
    "            cursor.execute(query)\n",
    "         \n",
    "       "
   ]
  },
  {
   "cell_type": "code",
   "execution_count": null,
   "id": "1be60d6a",
   "metadata": {},
   "outputs": [],
   "source": []
  },
  {
   "cell_type": "code",
   "execution_count": 117,
   "id": "b7355247",
   "metadata": {},
   "outputs": [
    {
     "name": "stdout",
     "output_type": "stream",
     "text": [
      "Closing connector\n"
     ]
    }
   ],
   "source": [
    "try:\n",
    "    con = mysql.connector.connect(host='localhost',\n",
    "        user='root',\n",
    "        password='root1234',\n",
    "        port='3306',\n",
    "        database='testdatabase'\n",
    "        )\n",
    "    \n",
    "    mycursor = con.cursor()\n",
    "    \n",
    "    \n",
    "    #used this right here to creat the 2 tables\n",
    "    \n",
    "    mycursor.execute(\"Create Table Sales (Day DATE, Product varchar(256), Distributor varchar(256), Sales int, salesID int PRIMARY KEY AUTO_INCREMENT )\")\n",
    "    mycursor.execute(\"Create Table Product (Product varchar(256), Category varchar(256), Brand varchar(256), productID int PRIMARY KEY AUTO_INCREMENT )\")\n",
    "    \n",
    "    add_csv(productFilePath, mycursor, 'Product')\n",
    "    add_csv(salesFilepath, mycursor, 'Sales')\n",
    "    \n",
    "    \n",
    "    mycursor.close()\n",
    "    con.commit()\n",
    "    \n",
    "    #openFiles()\n",
    "except Exception as e:\n",
    "    print(f\"an error of:\\n\\n{e}\\n\\noccured while checking if database is empty.\")\n",
    "finally:\n",
    "    if con.is_connected():\n",
    "        print(\"Closing connector\")\n",
    "        con.close()"
   ]
  },
  {
   "cell_type": "code",
   "execution_count": 134,
   "id": "c699fd50",
   "metadata": {},
   "outputs": [
    {
     "name": "stdout",
     "output_type": "stream",
     "text": [
      "Closing connector\n"
     ]
    }
   ],
   "source": [
    "try:\n",
    "    con = mysql.connector.connect(host='localhost',\n",
    "        user='root',\n",
    "        password='root1234',\n",
    "        port='3306',\n",
    "        database='testdatabase'\n",
    "        )\n",
    "\n",
    "    mycursor = con.cursor()\n",
    "\n",
    "    query = \"\"\"\n",
    "        CREATE VIEW ProductSalesView AS\n",
    "        SELECT Sales.Day, Product.Brand, Sales.Sales\n",
    "        FROM Sales\n",
    "        INNER JOIN Product ON Sales.Product = Product.Product;\n",
    "        \"\"\"\n",
    "    mycursor.execute(query)\n",
    "    \n",
    "    \n",
    "    mycursor.close()\n",
    "    con.commit()\n",
    "    \n",
    "except Exception as e:\n",
    "    \n",
    "    print(f\"an error of:\\n\\n{e}\\n\\noccured while checking if database is empty.\")\n",
    "\n",
    "finally:\n",
    "    if con.is_connected():\n",
    "        print(\"Closing connector\")\n",
    "        con.close()"
   ]
  },
  {
   "cell_type": "code",
   "execution_count": 136,
   "id": "ec1c5d8c",
   "metadata": {},
   "outputs": [
    {
     "name": "stdout",
     "output_type": "stream",
     "text": [
      "Closing connector\n"
     ]
    }
   ],
   "source": [
    "try:\n",
    "    con = mysql.connector.connect(host='localhost',\n",
    "        user='root',\n",
    "        password='root1234',\n",
    "        port='3306',\n",
    "        database='testdatabase'\n",
    "        )\n",
    "\n",
    "    mycursor = con.cursor()\n",
    "    mycursor.execute(\"SELECT * FROM ProductSalesView\")\n",
    "\n",
    "    # Fetch data from the cursor\n",
    "    data = mycursor.fetchall()\n",
    "    \n",
    "    header = [desc[0] for desc in mycursor.description]\n",
    "    \n",
    "    with open('ProductSalesView.csv', 'w', newline='') as csv_file:\n",
    "            csv_writer = csv.writer(csv_file)\n",
    "            \n",
    "            # Write header\n",
    "            csv_writer.writerow(header)\n",
    "            \n",
    "            # Write data rows\n",
    "            csv_writer.writerows(data)\n",
    "    \n",
    "    \n",
    "except Exception as e:\n",
    "    \n",
    "    print(f\"an error of:\\n\\n{e}\\n\\noccured while checking if database is empty.\")\n",
    "\n",
    "finally:\n",
    "    if con.is_connected():\n",
    "        print(\"Closing connector\")\n",
    "        con.close()"
   ]
  },
  {
   "cell_type": "code",
   "execution_count": null,
   "id": "bffaca56",
   "metadata": {},
   "outputs": [],
   "source": []
  },
  {
   "cell_type": "code",
   "execution_count": 231,
   "id": "fbf112f1",
   "metadata": {},
   "outputs": [],
   "source": [
    "class MySQLLoader:\n",
    "    def __init__(self, config_file_path):\n",
    "        self.config = self.read_config(config_file_path)        \n",
    "        if self.config:\n",
    "            self.mysql_connection = mysql.connector.connect(\n",
    "                host=self.config['mysql_host'],\n",
    "                user=self.config['mysql_user'],\n",
    "                password=self.config['mysql_password'],\n",
    "                database=self.config['mysql_database']\n",
    "            )\n",
    "            self.cursor = self.mysql_connection.cursor()\n",
    "\n",
    "            # Configure logger\n",
    "            logging.basicConfig(filename='mysql_loader.log', level=logging.INFO, format='%(asctime)s - %(levelname)s - %(message)s')\n",
    "    \n",
    "    def __del__(self):\n",
    "        self.close_connection()\n",
    "        \n",
    "    def read_config(self, file_path):\n",
    "        try:\n",
    "            with open(file_path, 'r') as config_file:\n",
    "                config = json.load(config_file)\n",
    "            return config\n",
    "        except Exception as e:\n",
    "            print(f\"error reading configuration file: {e}\")\n",
    "            logging.error(f\"Error reading configuration: {e}\")\n",
    "            return None\n",
    "\n",
    "    def load_csv_to_mysql(self, csv_file_path, table_name):\n",
    "        try:\n",
    "            # Read CSV file\n",
    "            with open(csv_file_path, 'r') as csv_file:\n",
    "                csv_reader = csv.reader(csv_file)\n",
    "                header = next(csv_reader)  # Assume the first row is header\n",
    "                \n",
    "                print(header)\n",
    "                \n",
    "                # writing a query to check \n",
    "                create_table_query = f\"CREATE TABLE IF NOT EXISTS {table_name} ({', '.join(f'{col} VARCHAR(255)' for col in header)});\"\n",
    "                self.cursor.execute(create_table_query)\n",
    "                logging.info(f\"Table '{table_name}' created or already exists.\")\n",
    "                \n",
    "                print(create_table_query)\n",
    "                print(f\"Table '{table_name}' created or already exists.\")\n",
    "                #-----------------------------------------\n",
    "                # Load data into MySQL\n",
    "                \n",
    "                \n",
    "                for row in csv_reader:\n",
    "                    columns = ', '.join(header)\n",
    "                    values = ', '.join(f\"'{val}'\" for val in row)\n",
    "                    query = f\"INSERT INTO {table_name} ({columns}) VALUES ({values})\"\n",
    "\n",
    "                    self.cursor.execute(query)\n",
    "                '''\n",
    "                load_data_query = f\"LOAD DATA LOCAL INFILE '{csv_file_path}' INTO TABLE {table_name} FIELDS TERMINATED BY ',' IGNORE 1 LINES;\"\n",
    "                self.cursor.execute(load_data_query)\n",
    "                logging.info(f\"Data from '{csv_file_path}' loaded into '{table_name}'.\")\n",
    "                '''\n",
    "                logging.info(f\"Data from '{csv_file_path}' loaded into '{table_name}'.\")\n",
    "                print(f\"Data from '{csv_file_path}' loaded into '{table_name}'.\")\n",
    "                \n",
    "                # Commit the changes\n",
    "                self.mysql_connection.commit()\n",
    "\n",
    "        except Exception as e:\n",
    "            print(f\"oh no we got an error: {e}\")\n",
    "            logging.error(f\"Error loading CSV to MySQL: {e}\")\n",
    "\n",
    "    def close_connection(self):\n",
    "        if self.mysql_connection.is_connected():\n",
    "            self.cursor.close()\n",
    "            self.mysql_connection.close()\n",
    "            logging.info(\"MySQL connection closed.\")\n"
   ]
  },
  {
   "cell_type": "code",
   "execution_count": null,
   "id": "973c75fd",
   "metadata": {},
   "outputs": [],
   "source": []
  },
  {
   "cell_type": "code",
   "execution_count": 232,
   "id": "f755218c",
   "metadata": {},
   "outputs": [],
   "source": [
    "def main():\n",
    "    config_file_path = 'config.json'\n",
    "    loader = MySQLLoader(config_file_path)\n",
    "\n",
    "    if loader.config:\n",
    "        loader.load_csv_to_mysql(loader.config['product_csv_path'], 'Products')\n",
    "        loader.load_csv_to_mysql(loader.config['sales_csv_path'], 'Sales')\n",
    "\n",
    "    loader.close_connection()"
   ]
  },
  {
   "cell_type": "code",
   "execution_count": 233,
   "id": "02bab99f",
   "metadata": {},
   "outputs": [
    {
     "name": "stdout",
     "output_type": "stream",
     "text": [
      "['Product', 'Category', 'Brand']\n",
      "CREATE TABLE IF NOT EXISTS Products (Product VARCHAR(255), Category VARCHAR(255), Brand VARCHAR(255));\n",
      "Table 'Products' created or already exists.\n",
      "Data from 'Products.csv' loaded into 'Products'.\n",
      "['Day', 'Product', 'Distributor', 'Sales']\n",
      "CREATE TABLE IF NOT EXISTS Sales (Day VARCHAR(255), Product VARCHAR(255), Distributor VARCHAR(255), Sales VARCHAR(255));\n",
      "Table 'Sales' created or already exists.\n",
      "Data from 'Sales.csv' loaded into 'Sales'.\n"
     ]
    }
   ],
   "source": [
    "if __name__ == '__main__':\n",
    "    main()"
   ]
  },
  {
   "cell_type": "code",
   "execution_count": 227,
   "id": "d536f5a4",
   "metadata": {},
   "outputs": [
    {
     "name": "stdout",
     "output_type": "stream",
     "text": [
      "['Product', 'Category', 'Brand']\n",
      "Product, Category, Brand\n",
      "INSERT INTO Products.csv (Product, Category, Brand) VALUES ('Product_A', 'Electronics', 'Brand_X')\n",
      "INSERT INTO Products.csv (Product, Category, Brand) VALUES ('Product_B', 'Appliances', 'Brand_Y')\n",
      "INSERT INTO Products.csv (Product, Category, Brand) VALUES ('Product_C', 'Clothing', 'Brand_Z')\n"
     ]
    }
   ],
   "source": [
    "with open('Products.csv', 'r') as csv_file:\n",
    "    \n",
    "    table_name = 'Products'\n",
    "    \n",
    "    csv_reader = csv.reader(csv_file)\n",
    "    header = next(csv_reader)  # Assume the first row is header\n",
    "\n",
    "    print(header)\n",
    "    columns = ', '.join(header)\n",
    "    \n",
    "    \n",
    "    print(columns)\n",
    "    for row in csv_reader:\n",
    "        values = ', '.join(f\"'{v}'\" for v in row)\n",
    "        query = f\"INSERT INTO {table_name} ({columns}) VALUES ({values})\"\n",
    "        print(query)"
   ]
  },
  {
   "cell_type": "code",
   "execution_count": 176,
   "id": "98e9fd37",
   "metadata": {},
   "outputs": [],
   "source": [
    "class DataLoader:\n",
    "    def __init__(self, configFilePath, jasonText, tableName):\n",
    "        \n",
    "        self.table_Name = tableName\n",
    "        \n",
    "        self.my_connection, self.my_cursor = self.__connect_to_database()\n",
    "        \n",
    "        self.open_Jason_ConfigFile(configFilePath, jasonText)\n",
    "        \n",
    "    def __del__(self):\n",
    "        self.my_cursor.close()\n",
    "        self.my_connection.close()\n",
    "        \n",
    "    def __connect_to_database(self):\n",
    "        try:\n",
    "            con = mysql.connector.connect(host='localhost',\n",
    "                user='root',\n",
    "                password='root1234',\n",
    "                port='3306',\n",
    "                database='testdatabase'\n",
    "                )\n",
    "            mycursor = con.cursor()\n",
    "            return con, mycursor\n",
    "        except Exception as e:\n",
    "            #Needs to be logged\n",
    "            print(f\"an error of:\\n\\n{e}\\n\\noccured while checking if database is empty.\")\n",
    "            return None , None\n",
    "        \n",
    "    def open_Jason_ConfigFile(self, configFilePath, jasonText):\n",
    "        print(configFilePath)\n",
    "        print(jasonText)\n",
    "        try:\n",
    "            with open(configFilePath, 'r') as config_file:\n",
    "                config = json.load(config_file)\n",
    "                myFilepath = config.get(jasonText)\n",
    "                \n",
    "        except Exception as e:\n",
    "            #needs to be logged\n",
    "            print(f\"Error reading configuration: {e}\")"
   ]
  }
 ],
 "metadata": {
  "kernelspec": {
   "display_name": "Python 3 (ipykernel)",
   "language": "python",
   "name": "python3"
  },
  "language_info": {
   "codemirror_mode": {
    "name": "ipython",
    "version": 3
   },
   "file_extension": ".py",
   "mimetype": "text/x-python",
   "name": "python",
   "nbconvert_exporter": "python",
   "pygments_lexer": "ipython3",
   "version": "3.11.5"
  }
 },
 "nbformat": 4,
 "nbformat_minor": 5
}
