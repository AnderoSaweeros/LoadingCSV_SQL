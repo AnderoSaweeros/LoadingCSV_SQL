{
 "cells": [
  {
   "cell_type": "code",
   "execution_count": 5,
   "id": "c03a2ab2",
   "metadata": {},
   "outputs": [],
   "source": [
    "import csv\n",
    "import mysql.connector"
   ]
  },
  {
   "cell_type": "code",
   "execution_count": 6,
   "id": "ec1c5d8c",
   "metadata": {},
   "outputs": [
    {
     "name": "stdout",
     "output_type": "stream",
     "text": [
      "['Product', 'Category', 'Brand']\n",
      "['Product_A', 'Electronics', 'Brand_X']\n",
      "['Product_B', 'Appliances', 'Brand_Y']\n",
      "['Product_C', 'Clothing', 'Brand_Z']\n"
     ]
    }
   ],
   "source": [
    "with open('Product.csv', 'r') as myFile:\n",
    "    reader = csv.reader(myFile)\n",
    "    for i in reader:\n",
    "        print(i)"
   ]
  },
  {
   "cell_type": "code",
   "execution_count": 7,
   "id": "02bab99f",
   "metadata": {},
   "outputs": [
    {
     "name": "stdout",
     "output_type": "stream",
     "text": [
      "['Day', 'Product', 'Distributor', 'Sales']\n",
      "['2023-01-01', 'Product_A', 'Distributor_1', '150']\n",
      "['2023-01-01', 'Product_B', 'Distributor_2', '200']\n",
      "['2023-01-02', 'Product_A', 'Distributor_1', '120']\n",
      "['2023-01-02', 'Product_B', 'Distributor_2', '180']\n",
      "['2023-01-03', 'Product_A', 'Distributor_1', '130']\n",
      "['2023-01-03', 'Product_B', 'Distributor_2', '220']\n"
     ]
    }
   ],
   "source": [
    "with open('Sales.csv', 'r') as myFile:\n",
    "    reader = csv.reader(myFile)\n",
    "    for i in reader:\n",
    "        print(i)"
   ]
  },
  {
   "cell_type": "code",
   "execution_count": 15,
   "id": "b7355247",
   "metadata": {},
   "outputs": [
    {
     "name": "stdout",
     "output_type": "stream",
     "text": [
      "<mysql.connector.connection_cext.CMySQLConnection object at 0x119455810>\n",
      "closing connector\n"
     ]
    }
   ],
   "source": [
    "try:\n",
    "    con = mysql.connector.connect(host='localhost',\n",
    "        user='root',\n",
    "        password='root1234',\n",
    "        port='3306',\n",
    "        database='testdatabase'\n",
    "        )\n",
    "    print(con)\n",
    "    mycursor = con.cursor()\n",
    "    \n",
    "finally:\n",
    "    print(\"closing connector\")\n",
    "    con.close()"
   ]
  },
  {
   "cell_type": "code",
   "execution_count": null,
   "id": "f755218c",
   "metadata": {},
   "outputs": [],
   "source": []
  },
  {
   "cell_type": "code",
   "execution_count": null,
   "id": "98e9fd37",
   "metadata": {},
   "outputs": [],
   "source": []
  }
 ],
 "metadata": {
  "kernelspec": {
   "display_name": "Python 3 (ipykernel)",
   "language": "python",
   "name": "python3"
  },
  "language_info": {
   "codemirror_mode": {
    "name": "ipython",
    "version": 3
   },
   "file_extension": ".py",
   "mimetype": "text/x-python",
   "name": "python",
   "nbconvert_exporter": "python",
   "pygments_lexer": "ipython3",
   "version": "3.11.5"
  }
 },
 "nbformat": 4,
 "nbformat_minor": 5
}
